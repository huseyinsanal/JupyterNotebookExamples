{
 "cells": [
  {
   "cell_type": "code",
   "execution_count": 1,
   "id": "3e310b6c-a893-461c-aaec-050ef8243e78",
   "metadata": {},
   "outputs": [],
   "source": [
    "def calculateFactorial(num):\n",
    "    if num == 0:\n",
    "        return 1\n",
    "    else:\n",
    "        return num * calculateFactorial(num - 1)"
   ]
  },
  {
   "cell_type": "code",
   "execution_count": 2,
   "id": "61ae747e-d4c4-4744-abb7-a5030ec1eae8",
   "metadata": {},
   "outputs": [
    {
     "data": {
      "text/plain": [
       "120"
      ]
     },
     "execution_count": 2,
     "metadata": {},
     "output_type": "execute_result"
    }
   ],
   "source": [
    "calculateFactorial(5)"
   ]
  },
  {
   "cell_type": "code",
   "execution_count": 3,
   "id": "e9f78b37-049b-4820-a137-dfead480f01b",
   "metadata": {},
   "outputs": [
    {
     "data": {
      "text/plain": [
       "5040"
      ]
     },
     "execution_count": 3,
     "metadata": {},
     "output_type": "execute_result"
    }
   ],
   "source": [
    "calculateFactorial(7)"
   ]
  },
  {
   "cell_type": "code",
   "execution_count": 10,
   "id": "f5b78e31-4903-4b8f-86e0-fa6b8945923d",
   "metadata": {},
   "outputs": [],
   "source": [
    "def calculateContigousSum(num):\n",
    "    if num == 0:\n",
    "        return 0\n",
    "    else:\n",
    "        return num + calculateContigousSum(num - 1)"
   ]
  },
  {
   "cell_type": "code",
   "execution_count": 11,
   "id": "f44c655c-016f-417c-99d1-8511f4d57a76",
   "metadata": {},
   "outputs": [
    {
     "data": {
      "text/plain": [
       "21"
      ]
     },
     "execution_count": 11,
     "metadata": {},
     "output_type": "execute_result"
    }
   ],
   "source": [
    "calculateContigousSum(6)"
   ]
  },
  {
   "cell_type": "code",
   "execution_count": 12,
   "id": "05ab7025-4713-45a6-ac89-48f55eb7dc2e",
   "metadata": {},
   "outputs": [
    {
     "data": {
      "text/plain": [
       "15"
      ]
     },
     "execution_count": 12,
     "metadata": {},
     "output_type": "execute_result"
    }
   ],
   "source": [
    "calculateContigousSum(5)"
   ]
  },
  {
   "cell_type": "code",
   "execution_count": null,
   "id": "902a627d-ccda-4c41-9b03-5bf26a7900be",
   "metadata": {},
   "outputs": [],
   "source": []
  }
 ],
 "metadata": {
  "kernelspec": {
   "display_name": "Python 3 (ipykernel)",
   "language": "python",
   "name": "python3"
  },
  "language_info": {
   "codemirror_mode": {
    "name": "ipython",
    "version": 3
   },
   "file_extension": ".py",
   "mimetype": "text/x-python",
   "name": "python",
   "nbconvert_exporter": "python",
   "pygments_lexer": "ipython3",
   "version": "3.11.7"
  }
 },
 "nbformat": 4,
 "nbformat_minor": 5
}
