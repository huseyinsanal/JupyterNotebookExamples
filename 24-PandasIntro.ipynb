{
 "cells": [
  {
   "cell_type": "code",
   "execution_count": 1,
   "id": "b4d8a8e9-906c-44d0-8b5b-7f4be274e586",
   "metadata": {},
   "outputs": [],
   "source": [
    "import pandas as pd\n",
    "import numpy as np"
   ]
  },
  {
   "cell_type": "code",
   "execution_count": 2,
   "id": "fd770d4c-f405-41db-a03f-4b1ad592f64e",
   "metadata": {},
   "outputs": [],
   "source": [
    "#series"
   ]
  },
  {
   "cell_type": "code",
   "execution_count": 3,
   "id": "ca255179-0eb3-417b-b579-f7ce9eae4106",
   "metadata": {},
   "outputs": [],
   "source": [
    "my_dict = {\"James\" : 50, \"Lars\" : 60, \"Kirk\" : 55, \"Rob\" : 65}"
   ]
  },
  {
   "cell_type": "code",
   "execution_count": 4,
   "id": "80ae9cc0-f3a0-4f69-b5c5-b8a056554b35",
   "metadata": {},
   "outputs": [
    {
     "data": {
      "text/plain": [
       "James    50\n",
       "Lars     60\n",
       "Kirk     55\n",
       "Rob      65\n",
       "dtype: int64"
      ]
     },
     "execution_count": 4,
     "metadata": {},
     "output_type": "execute_result"
    }
   ],
   "source": [
    "pd.Series(my_dict)"
   ]
  },
  {
   "cell_type": "code",
   "execution_count": 9,
   "id": "56d84440-0570-41e0-af19-0f4647e392cf",
   "metadata": {},
   "outputs": [],
   "source": [
    "age_list = [50,60,55,65]\n",
    "name_list = [\"James\", \"Lars\", \"Kirk\", \"Rob\"]"
   ]
  },
  {
   "cell_type": "code",
   "execution_count": 12,
   "id": "fc0ebfa0-0368-47bf-90b1-d3127565b2f8",
   "metadata": {},
   "outputs": [
    {
     "data": {
      "text/plain": [
       "James    50\n",
       "Lars     60\n",
       "Kirk     55\n",
       "Rob      65\n",
       "dtype: int64"
      ]
     },
     "execution_count": 12,
     "metadata": {},
     "output_type": "execute_result"
    }
   ],
   "source": [
    "pd.Series(age_list, name_list)"
   ]
  },
  {
   "cell_type": "code",
   "execution_count": 13,
   "id": "390240c4-63ac-4381-9429-eac8b3791f69",
   "metadata": {},
   "outputs": [
    {
     "data": {
      "text/plain": [
       "James    50\n",
       "Lars     60\n",
       "Kirk     55\n",
       "Rob      65\n",
       "dtype: int64"
      ]
     },
     "execution_count": 13,
     "metadata": {},
     "output_type": "execute_result"
    }
   ],
   "source": [
    "pd.Series(data = age_list, index = name_list)"
   ]
  },
  {
   "cell_type": "code",
   "execution_count": 16,
   "id": "2d917fae-2d40-4cf5-a663-57a6df42c762",
   "metadata": {},
   "outputs": [],
   "source": [
    "numpy_array = np.arange(0,8)"
   ]
  },
  {
   "cell_type": "code",
   "execution_count": 17,
   "id": "403c581b-3c69-430d-b9d9-599d54bdcad2",
   "metadata": {},
   "outputs": [
    {
     "data": {
      "text/plain": [
       "array([0, 1, 2, 3, 4, 5, 6, 7])"
      ]
     },
     "execution_count": 17,
     "metadata": {},
     "output_type": "execute_result"
    }
   ],
   "source": [
    "numpy_array"
   ]
  },
  {
   "cell_type": "code",
   "execution_count": 18,
   "id": "40760b3e-7578-4306-b07c-19fa5e2fa3e0",
   "metadata": {},
   "outputs": [
    {
     "data": {
      "text/plain": [
       "0    0\n",
       "1    1\n",
       "2    2\n",
       "3    3\n",
       "4    4\n",
       "5    5\n",
       "6    6\n",
       "7    7\n",
       "dtype: int64"
      ]
     },
     "execution_count": 18,
     "metadata": {},
     "output_type": "execute_result"
    }
   ],
   "source": [
    "pd.Series(numpy_array)"
   ]
  },
  {
   "cell_type": "code",
   "execution_count": 19,
   "id": "0571a698-11f7-4ce9-b31c-71a3ba0c6d61",
   "metadata": {},
   "outputs": [],
   "source": [
    "new_numpy_array = np.array([10,20,30,40])"
   ]
  },
  {
   "cell_type": "code",
   "execution_count": 20,
   "id": "6fbc2a7c-c6d1-4f26-8a4a-db1d69578e5d",
   "metadata": {},
   "outputs": [
    {
     "data": {
      "text/plain": [
       "0    10\n",
       "1    20\n",
       "2    30\n",
       "3    40\n",
       "dtype: int64"
      ]
     },
     "execution_count": 20,
     "metadata": {},
     "output_type": "execute_result"
    }
   ],
   "source": [
    "pd.Series(new_numpy_array)"
   ]
  },
  {
   "cell_type": "code",
   "execution_count": 21,
   "id": "72c95752-319f-49b8-a9f8-d716f1b66226",
   "metadata": {},
   "outputs": [
    {
     "data": {
      "text/plain": [
       "array([10, 20, 30, 40])"
      ]
     },
     "execution_count": 21,
     "metadata": {},
     "output_type": "execute_result"
    }
   ],
   "source": [
    "new_numpy_array"
   ]
  },
  {
   "cell_type": "code",
   "execution_count": 22,
   "id": "6a0fa64c-d5eb-4fad-8035-416040ca66ac",
   "metadata": {},
   "outputs": [
    {
     "data": {
      "text/plain": [
       "['James', 'Lars', 'Kirk', 'Rob']"
      ]
     },
     "execution_count": 22,
     "metadata": {},
     "output_type": "execute_result"
    }
   ],
   "source": [
    "name_list"
   ]
  },
  {
   "cell_type": "code",
   "execution_count": 23,
   "id": "7d126ade-6d4e-4587-b2eb-0b98a8642495",
   "metadata": {},
   "outputs": [
    {
     "data": {
      "text/plain": [
       "James    10\n",
       "Lars     20\n",
       "Kirk     30\n",
       "Rob      40\n",
       "dtype: int64"
      ]
     },
     "execution_count": 23,
     "metadata": {},
     "output_type": "execute_result"
    }
   ],
   "source": [
    "pd.Series(data=new_numpy_array,index=name_list)"
   ]
  },
  {
   "cell_type": "code",
   "execution_count": 24,
   "id": "06745277-957f-4398-8a56-c3339b4fa500",
   "metadata": {},
   "outputs": [],
   "source": [
    "my_series = pd.Series(data=new_numpy_array, index=name_list)"
   ]
  },
  {
   "cell_type": "code",
   "execution_count": 25,
   "id": "8871bba4-a408-4d01-93b3-1ed43dd8c760",
   "metadata": {},
   "outputs": [
    {
     "data": {
      "text/plain": [
       "James    10\n",
       "Lars     20\n",
       "Kirk     30\n",
       "Rob      40\n",
       "dtype: int64"
      ]
     },
     "execution_count": 25,
     "metadata": {},
     "output_type": "execute_result"
    }
   ],
   "source": [
    "my_series"
   ]
  },
  {
   "cell_type": "code",
   "execution_count": 26,
   "id": "35047128-dd84-42c7-9de2-a92f6a4d2d0d",
   "metadata": {},
   "outputs": [
    {
     "data": {
      "text/plain": [
       "pandas.core.series.Series"
      ]
     },
     "execution_count": 26,
     "metadata": {},
     "output_type": "execute_result"
    }
   ],
   "source": [
    "type(my_series)"
   ]
  },
  {
   "cell_type": "code",
   "execution_count": 27,
   "id": "e1731315-7df9-4b40-9028-f86ec59540b8",
   "metadata": {},
   "outputs": [
    {
     "data": {
      "text/plain": [
       "30"
      ]
     },
     "execution_count": 27,
     "metadata": {},
     "output_type": "execute_result"
    }
   ],
   "source": [
    "my_series[\"Kirk\"]"
   ]
  },
  {
   "cell_type": "code",
   "execution_count": 28,
   "id": "dd353d75-c60b-4454-a705-7579665d46e6",
   "metadata": {},
   "outputs": [],
   "source": [
    "my_series[\"Kirk\"] = 60"
   ]
  },
  {
   "cell_type": "code",
   "execution_count": 29,
   "id": "6b5ba1a9-4efd-4898-adb1-a9df28c0eea3",
   "metadata": {},
   "outputs": [
    {
     "data": {
      "text/plain": [
       "60"
      ]
     },
     "execution_count": 29,
     "metadata": {},
     "output_type": "execute_result"
    }
   ],
   "source": [
    "my_series[\"Kirk\"]"
   ]
  },
  {
   "cell_type": "code",
   "execution_count": 30,
   "id": "d03aa634-0479-4c39-a1bd-49eb8c60e7ca",
   "metadata": {},
   "outputs": [
    {
     "data": {
      "text/plain": [
       "James    10\n",
       "Lars     20\n",
       "Kirk     60\n",
       "Rob      40\n",
       "dtype: int64"
      ]
     },
     "execution_count": 30,
     "metadata": {},
     "output_type": "execute_result"
    }
   ],
   "source": [
    "my_series"
   ]
  },
  {
   "cell_type": "code",
   "execution_count": 33,
   "id": "693d52a2-6f2f-44d8-a6f5-b80894a8b856",
   "metadata": {},
   "outputs": [],
   "source": [
    "quiz_results1 = pd.Series(data=[70,60,100], index=[\"A\",\"B\",\"C\"])"
   ]
  },
  {
   "cell_type": "code",
   "execution_count": 34,
   "id": "cef2ef28-8b93-4cd1-b1dd-841e1a70848d",
   "metadata": {},
   "outputs": [],
   "source": [
    "quiz_results2 = pd.Series(data=[80,30,50], index=[\"A\",\"B\",\"C\"])"
   ]
  },
  {
   "cell_type": "code",
   "execution_count": 35,
   "id": "c5407479-d72c-4568-b962-b77da792d666",
   "metadata": {},
   "outputs": [
    {
     "data": {
      "text/plain": [
       "A     70\n",
       "B     60\n",
       "C    100\n",
       "dtype: int64"
      ]
     },
     "execution_count": 35,
     "metadata": {},
     "output_type": "execute_result"
    }
   ],
   "source": [
    "quiz_results1"
   ]
  },
  {
   "cell_type": "code",
   "execution_count": 36,
   "id": "0562f13a-4255-47f1-87eb-57355dadf3cc",
   "metadata": {},
   "outputs": [
    {
     "data": {
      "text/plain": [
       "A    80\n",
       "B    30\n",
       "C    50\n",
       "dtype: int64"
      ]
     },
     "execution_count": 36,
     "metadata": {},
     "output_type": "execute_result"
    }
   ],
   "source": [
    "quiz_results2"
   ]
  },
  {
   "cell_type": "code",
   "execution_count": 38,
   "id": "f04868da-14df-42da-ad33-17c5766b6b5f",
   "metadata": {},
   "outputs": [
    {
     "data": {
      "text/plain": [
       "A    150\n",
       "B     90\n",
       "C    150\n",
       "dtype: int64"
      ]
     },
     "execution_count": 38,
     "metadata": {},
     "output_type": "execute_result"
    }
   ],
   "source": [
    "quiz_results1 + quiz_results2"
   ]
  },
  {
   "cell_type": "code",
   "execution_count": 40,
   "id": "f47dbd35-f082-4e48-adb3-a6649f90e01e",
   "metadata": {},
   "outputs": [
    {
     "data": {
      "text/plain": [
       "A    75.0\n",
       "B    45.0\n",
       "C    75.0\n",
       "dtype: float64"
      ]
     },
     "execution_count": 40,
     "metadata": {},
     "output_type": "execute_result"
    }
   ],
   "source": [
    "(quiz_results1 + quiz_results2) / 2"
   ]
  },
  {
   "cell_type": "code",
   "execution_count": 41,
   "id": "530d5a23-d01e-4cd8-a9dc-4e436efaa420",
   "metadata": {},
   "outputs": [],
   "source": [
    "exam_results1 = pd.Series(data=[70,60,100], index=[\"A\",\"B\",\"C\"])"
   ]
  },
  {
   "cell_type": "code",
   "execution_count": 42,
   "id": "7cb9914c-b0bf-43a2-a9d6-72963502ae28",
   "metadata": {},
   "outputs": [],
   "source": [
    "exam_results2 = pd.Series(data=[80,30,50], index=[\"A\",\"D\",\"C\"])"
   ]
  },
  {
   "cell_type": "code",
   "execution_count": 43,
   "id": "75b75a4e-9a44-44f9-a93e-5cb085033959",
   "metadata": {},
   "outputs": [
    {
     "data": {
      "text/plain": [
       "A    150.0\n",
       "B      NaN\n",
       "C    150.0\n",
       "D      NaN\n",
       "dtype: float64"
      ]
     },
     "execution_count": 43,
     "metadata": {},
     "output_type": "execute_result"
    }
   ],
   "source": [
    "exam_results1 + exam_results2"
   ]
  },
  {
   "cell_type": "code",
   "execution_count": null,
   "id": "d3ab05bf-e9bd-42b7-9333-cc5567d59f14",
   "metadata": {},
   "outputs": [],
   "source": []
  }
 ],
 "metadata": {
  "kernelspec": {
   "display_name": "Python 3 (ipykernel)",
   "language": "python",
   "name": "python3"
  },
  "language_info": {
   "codemirror_mode": {
    "name": "ipython",
    "version": 3
   },
   "file_extension": ".py",
   "mimetype": "text/x-python",
   "name": "python",
   "nbconvert_exporter": "python",
   "pygments_lexer": "ipython3",
   "version": "3.11.7"
  }
 },
 "nbformat": 4,
 "nbformat_minor": 5
}
